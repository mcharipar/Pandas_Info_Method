{
 "cells": [
  {
   "cell_type": "markdown",
   "id": "91b8cfe4",
   "metadata": {},
   "source": [
    "# Pandas Info Method\n",
    "## Takes an Excel File with Multiple Sheets and Saves a \n",
    "## .CSV File with Info on Column's Contents"
   ]
  },
  {
   "cell_type": "markdown",
   "id": "b02c4adb",
   "metadata": {},
   "source": [
    "cd to database dir"
   ]
  },
  {
   "cell_type": "code",
   "execution_count": 3,
   "id": "eb8d33a7",
   "metadata": {
    "scrolled": true
   },
   "outputs": [
    {
     "name": "stdout",
     "output_type": "stream",
     "text": [
      "J:\\Plan4Co\\SaturnCloud\\211-OC_Data\n"
     ]
    }
   ],
   "source": [
    "cd J:\\\\Plan4Co\\SaturnCloud\\211-OC_Data\\"
   ]
  },
  {
   "cell_type": "markdown",
   "id": "48d821ff",
   "metadata": {},
   "source": [
    "Make sure to !pip install pandas if you don't have it installed already:\n",
    "\n",
    "https://pandas.pydata.org/pandas-docs/stable/getting_started/install.html"
   ]
  },
  {
   "cell_type": "code",
   "execution_count": 4,
   "id": "97ab9a48",
   "metadata": {},
   "outputs": [],
   "source": [
    "# !pip install pandas\n",
    "import pandas as pd"
   ]
  },
  {
   "cell_type": "markdown",
   "id": "272942dc",
   "metadata": {},
   "source": [
    "Load excel file to a Pandas Dataframe (will take a min or two)"
   ]
  },
  {
   "cell_type": "code",
   "execution_count": 6,
   "id": "489a2ff9",
   "metadata": {},
   "outputs": [],
   "source": [
    "#Prints all Columns without the '...' \n",
    "pd.set_option('display.max_columns', None)"
   ]
  },
  {
   "cell_type": "code",
   "execution_count": 7,
   "id": "6a125af3",
   "metadata": {
    "scrolled": true
   },
   "outputs": [],
   "source": [
    "dfSheet2 = pd.read_excel(\"FormattedCallReports_year 2019.xlsx\", sheet_name=1)"
   ]
  },
  {
   "cell_type": "code",
   "execution_count": 8,
   "id": "98f9bfca",
   "metadata": {
    "scrolled": true
   },
   "outputs": [],
   "source": [
    "dfSheet3 = pd.read_excel(\"FormattedCallReports_year 2019.xlsx\", sheet_name=2)"
   ]
  },
  {
   "cell_type": "code",
   "execution_count": 9,
   "id": "06a8173f",
   "metadata": {
    "scrolled": true
   },
   "outputs": [],
   "source": [
    "dfSheet1 = pd.read_excel(\"FormattedCallReports_year 2019.xlsx\", sheet_name=0)"
   ]
  },
  {
   "cell_type": "markdown",
   "id": "f7755c1f",
   "metadata": {},
   "source": [
    "\n",
    "# Returns list in .csv format with info on columns"
   ]
  },
  {
   "cell_type": "code",
   "execution_count": null,
   "id": "26d973f9",
   "metadata": {},
   "outputs": [],
   "source": [
    "def col_info(dfSNum):\n",
    "    # Returns Column Names\n",
    "    def colNames():\n",
    "        aListing = []\n",
    "        for i in dfSNum:\n",
    "            aListing.append(i)\n",
    "        return aListing\n",
    "    \n",
    "    # Number of Uniques in Column Excluding Null\n",
    "    def countUnique():\n",
    "        thisList1 = []\n",
    "        for i in dfSNum:\n",
    "            thisList1.append(dfSNum[i].nunique())\n",
    "        return thisList1\n",
    "    \n",
    "    # Returns the Unique Values if They are Equal to or Less Then 10\n",
    "    def UNIQUES():\n",
    "        def countUniqueVal():\n",
    "            thisList = []\n",
    "            for i in dfSNum:\n",
    "                thisList.append(dfSNum[i].value_counts())\n",
    "            return thisList\n",
    "        def countUniqueVal1():\n",
    "            anthrList = []\n",
    "            z = countUniqueVal()\n",
    "            for j in z:\n",
    "                if len(j) <= 10:\n",
    "                    anthrList.append(j)\n",
    "                else:\n",
    "                    anthrList.append('>10')\n",
    "            return anthrList\n",
    "        return countUniqueVal1()\n",
    "    \n",
    "    # Returns the number of nulls\n",
    "    def nullList():\n",
    "        def nullCount():\n",
    "            theString = ''\n",
    "            theString = dfSNum.isna().sum()\n",
    "            return theString\n",
    "        def sliceNullCount():\n",
    "            p = nullCount()\n",
    "            theList = []\n",
    "            for k in p:\n",
    "                theList.append(k)\n",
    "            return theList\n",
    "        return sliceNullCount()\n",
    "    \n",
    "    # Adds the Info Together\n",
    "    def addR():\n",
    "        r = colNames()\n",
    "        r0 = countUnique()\n",
    "        r1 = UNIQUES()\n",
    "        r2 = nullList()\n",
    "        amzinList = ['COLUMN_NAME, COUNT_OF_UNIQUES, UNIQUE_VALUES, COUNT_OF_NULL_VALUES']\n",
    "        counter = 0\n",
    "\n",
    "        for u in r:\n",
    "            amzinList.append(str(u) + ', ' + str(r0[counter]).replace(',', '_') +\n",
    "                             ', ' + str(r1[counter]).replace(',', '_') +  ', ' + \n",
    "                             str(r2[counter]))\n",
    "            counter = counter + 1\n",
    "        return amzinList\n",
    "    \n",
    "    # Cleans Up the List for .csv format\n",
    "    def cleanUp():\n",
    "        t = addR()\n",
    "        supList = []\n",
    "        y = 0\n",
    "        while y < len(t):\n",
    "            t[y] = t[y].replace('\\n', '; ')\n",
    "            t[y] = t[y].replace(', dtype', '; dytpe')\n",
    "            y = y + 1\n",
    "        return t\n",
    "    \n",
    "    return cleanUp() "
   ]
  },
  {
   "cell_type": "markdown",
   "id": "3f18251f",
   "metadata": {},
   "source": [
    "Call method on each sheet in the excel file"
   ]
  },
  {
   "cell_type": "code",
   "execution_count": 208,
   "id": "bc2fcdfa",
   "metadata": {
    "scrolled": false
   },
   "outputs": [],
   "source": [
    "m1 = col_info(dfSheet1)\n",
    "m2 = col_info(dfSheet2)\n",
    "m3 = col_info(dfSheet3)"
   ]
  },
  {
   "cell_type": "markdown",
   "id": "2ae0ed4b",
   "metadata": {},
   "source": [
    "Make each of the lists the same length"
   ]
  },
  {
   "cell_type": "code",
   "execution_count": 209,
   "id": "f7075c7a",
   "metadata": {},
   "outputs": [],
   "source": [
    "arrays = [m1, m2, m3]\n",
    "max_length = 0\n",
    "for array in arrays:\n",
    "    max_length = max(max_length, len(array))\n",
    "\n",
    "for array in arrays:\n",
    "    array += [',,,'] * (max_length - len(array))# extra commas are to keep alignment in .csv format"
   ]
  },
  {
   "cell_type": "markdown",
   "id": "c8c2d606",
   "metadata": {},
   "source": [
    "Merge the lists into a single list"
   ]
  },
  {
   "cell_type": "code",
   "execution_count": 210,
   "id": "21983069",
   "metadata": {},
   "outputs": [],
   "source": [
    "suprList = []\n",
    "suprCounter = 0\n",
    "for x in m1:\n",
    "    suprList.append(x + ', ' + m2[suprCounter] +  ', ' + m3[suprCounter])\n",
    "    suprCounter = suprCounter + 1"
   ]
  },
  {
   "cell_type": "markdown",
   "id": "e2275a7b",
   "metadata": {},
   "source": [
    "Write the list to a .csv file in the same dir cd'd into at start"
   ]
  },
  {
   "cell_type": "code",
   "execution_count": 211,
   "id": "0c14b97b",
   "metadata": {},
   "outputs": [],
   "source": [
    "f = open('COLUMN_INFO.CSV', 'w')\n",
    "for e in suprList:\n",
    "    f.write(e + ',\\n')\n",
    "f.close()"
   ]
  }
 ],
 "metadata": {
  "kernelspec": {
   "display_name": "Python 3",
   "language": "python",
   "name": "python3"
  },
  "language_info": {
   "codemirror_mode": {
    "name": "ipython",
    "version": 3
   },
   "file_extension": ".py",
   "mimetype": "text/x-python",
   "name": "python",
   "nbconvert_exporter": "python",
   "pygments_lexer": "ipython3",
   "version": "3.8.8"
  }
 },
 "nbformat": 4,
 "nbformat_minor": 5
}
